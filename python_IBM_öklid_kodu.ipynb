{
  "nbformat": 4,
  "nbformat_minor": 0,
  "metadata": {
    "colab": {
      "provenance": [],
      "authorship_tag": "ABX9TyOEN9E7zCo84FCWmOIClqaS",
      "include_colab_link": true
    },
    "kernelspec": {
      "name": "python3",
      "display_name": "Python 3"
    },
    "language_info": {
      "name": "python"
    }
  },
  "cells": [
    {
      "cell_type": "markdown",
      "metadata": {
        "id": "view-in-github",
        "colab_type": "text"
      },
      "source": [
        "<a href=\"https://colab.research.google.com/github/ZehraNurKutan/YAZILIM-M-HEND-SL-ORYANTASYONU/blob/main/python_IBM_%C3%B6klid_kodu.ipynb\" target=\"_parent\"><img src=\"https://colab.research.google.com/assets/colab-badge.svg\" alt=\"Open In Colab\"/></a>"
      ]
    },
    {
      "cell_type": "code",
      "source": [
        "import math\n",
        "\n",
        "# Öklid mesafesini hesaplayan fonksiyon\n",
        "def euclideanDistance(point1, point2):\n",
        "    return math.sqrt((point2[0] - point1[0]) ** 2 + (point2[1] - point1[1]) ** 2)\n",
        "\n",
        "# Noktaların tanımlanması\n",
        "points = [(1, 2), (4, 6), (5, 1), (7, 8), (9, 3)]\n",
        "\n",
        "# Mesafeleri saklayacağımız liste\n",
        "distances = []\n",
        "\n",
        "# Tüm nokta çiftleri arasındaki mesafeleri hesaplama\n",
        "for i in range(len(points)):\n",
        "    for j in range(i + 1, len(points)):\n",
        "        distance = euclideanDistance(points[i], points[j])\n",
        "        distances.append(distance)\n",
        "\n",
        "# Minimum mesafenin bulunması\n",
        "min_distance = min(distances)\n",
        "\n",
        "# Sonuçların yazdırılması\n",
        "print(\"Nokta çiftleri arasındaki mesafeler:\", distances)\n",
        "print(\"Minimum mesafe:\", min_distance)"
      ],
      "metadata": {
        "colab": {
          "base_uri": "https://localhost:8080/"
        },
        "id": "ySOzvr7zJFe_",
        "outputId": "2835e2d8-a0fe-45d8-eced-0578e4f5c1b8"
      },
      "execution_count": 2,
      "outputs": [
        {
          "output_type": "stream",
          "name": "stdout",
          "text": [
            "Nokta çiftleri arasındaki mesafeler: [5.0, 4.123105625617661, 8.48528137423857, 8.06225774829855, 5.0990195135927845, 3.605551275463989, 5.830951894845301, 7.280109889280518, 4.47213595499958, 5.385164807134504]\n",
            "Minimum mesafe: 3.605551275463989\n"
          ]
        }
      ]
    }
  ]
}